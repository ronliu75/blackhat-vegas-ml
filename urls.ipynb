{
 "cells": [
  {
   "cell_type": "code",
   "execution_count": 1,
   "metadata": {
    "collapsed": true
   },
   "outputs": [],
   "source": [
    "# Thank you Vincent!\n",
    "\n",
    "# Using Deep Learning and Machine Learning to predict malicious urls\n",
    "# https://github.com/joshsaxe/eXposeDeepNeuralNetwork"
   ]
  },
  {
   "cell_type": "code",
   "execution_count": 2,
   "metadata": {},
   "outputs": [
    {
     "name": "stdout",
     "output_type": "stream",
     "text": [
      "(5000, 3)\n"
     ]
    }
   ],
   "source": [
    "# Load the data\n",
    "from urlparse import urlparse\n",
    "import pandas as pd\n",
    "urls = pd.read_json(\"data/url_nn.json\")\n",
    "print urls.shape\n",
    "urls['string'] = \"http://\" + urls['string']"
   ]
  },
  {
   "cell_type": "code",
   "execution_count": 53,
   "metadata": {},
   "outputs": [
    {
     "data": {
      "text/html": [
       "<div>\n",
       "<style>\n",
       "    .dataframe thead tr:only-child th {\n",
       "        text-align: right;\n",
       "    }\n",
       "\n",
       "    .dataframe thead th {\n",
       "        text-align: left;\n",
       "    }\n",
       "\n",
       "    .dataframe tbody tr th {\n",
       "        vertical-align: top;\n",
       "    }\n",
       "</style>\n",
       "<table border=\"1\" class=\"dataframe\">\n",
       "  <thead>\n",
       "    <tr style=\"text-align: right;\">\n",
       "      <th></th>\n",
       "      <th>pred</th>\n",
       "      <th>string</th>\n",
       "      <th>truth</th>\n",
       "    </tr>\n",
       "  </thead>\n",
       "  <tbody>\n",
       "    <tr>\n",
       "      <th>0</th>\n",
       "      <td>1.574204e-05</td>\n",
       "      <td>http://startbuyingstocks.com/</td>\n",
       "      <td>0</td>\n",
       "    </tr>\n",
       "    <tr>\n",
       "      <th>1</th>\n",
       "      <td>1.840909e-05</td>\n",
       "      <td>http://qqcvk.com/</td>\n",
       "      <td>0</td>\n",
       "    </tr>\n",
       "    <tr>\n",
       "      <th>2</th>\n",
       "      <td>1.842080e-05</td>\n",
       "      <td>http://432parkavenue.com/</td>\n",
       "      <td>0</td>\n",
       "    </tr>\n",
       "    <tr>\n",
       "      <th>3</th>\n",
       "      <td>7.954729e-07</td>\n",
       "      <td>http://gamefoliant.ru/</td>\n",
       "      <td>0</td>\n",
       "    </tr>\n",
       "    <tr>\n",
       "      <th>4</th>\n",
       "      <td>3.239338e-06</td>\n",
       "      <td>http://orka.cn/</td>\n",
       "      <td>0</td>\n",
       "    </tr>\n",
       "    <tr>\n",
       "      <th>5</th>\n",
       "      <td>3.043137e-04</td>\n",
       "      <td>http://media2.mercola.com/</td>\n",
       "      <td>0</td>\n",
       "    </tr>\n",
       "    <tr>\n",
       "      <th>6</th>\n",
       "      <td>4.107331e-37</td>\n",
       "      <td>http://ping.chartbeat.net/ping?h=sltrib.com&amp;p=...</td>\n",
       "      <td>0</td>\n",
       "    </tr>\n",
       "    <tr>\n",
       "      <th>7</th>\n",
       "      <td>1.664497e-07</td>\n",
       "      <td>http://stephensteels.com/</td>\n",
       "      <td>0</td>\n",
       "    </tr>\n",
       "    <tr>\n",
       "      <th>8</th>\n",
       "      <td>1.400715e-05</td>\n",
       "      <td>http://kbd-eko.pl/</td>\n",
       "      <td>0</td>\n",
       "    </tr>\n",
       "    <tr>\n",
       "      <th>9</th>\n",
       "      <td>2.273991e-05</td>\n",
       "      <td>http://ceskaposta.cz/</td>\n",
       "      <td>0</td>\n",
       "    </tr>\n",
       "    <tr>\n",
       "      <th>10</th>\n",
       "      <td>1.874393e-07</td>\n",
       "      <td>http://accessmgt.com/</td>\n",
       "      <td>0</td>\n",
       "    </tr>\n",
       "    <tr>\n",
       "      <th>11</th>\n",
       "      <td>3.447522e-06</td>\n",
       "      <td>http://khumbah.com/</td>\n",
       "      <td>0</td>\n",
       "    </tr>\n",
       "    <tr>\n",
       "      <th>12</th>\n",
       "      <td>1.621475e-13</td>\n",
       "      <td>http://www.ntti3.com/test/ibyhvpewne/</td>\n",
       "      <td>0</td>\n",
       "    </tr>\n",
       "    <tr>\n",
       "      <th>13</th>\n",
       "      <td>3.036098e-06</td>\n",
       "      <td>http://www.rolstoel-op-maat.nl/</td>\n",
       "      <td>0</td>\n",
       "    </tr>\n",
       "    <tr>\n",
       "      <th>14</th>\n",
       "      <td>5.280865e-03</td>\n",
       "      <td>http://signal2.fractime.info/</td>\n",
       "      <td>0</td>\n",
       "    </tr>\n",
       "    <tr>\n",
       "      <th>15</th>\n",
       "      <td>3.703047e-06</td>\n",
       "      <td>http://uhma-bike.pl/</td>\n",
       "      <td>0</td>\n",
       "    </tr>\n",
       "    <tr>\n",
       "      <th>16</th>\n",
       "      <td>7.609874e-06</td>\n",
       "      <td>http://34c.info/</td>\n",
       "      <td>0</td>\n",
       "    </tr>\n",
       "    <tr>\n",
       "      <th>17</th>\n",
       "      <td>2.662802e-06</td>\n",
       "      <td>http://shipmatescollaroy.com/</td>\n",
       "      <td>0</td>\n",
       "    </tr>\n",
       "    <tr>\n",
       "      <th>18</th>\n",
       "      <td>1.779410e-20</td>\n",
       "      <td>http://l.ooyala.com/verify?ts=1462457649773</td>\n",
       "      <td>0</td>\n",
       "    </tr>\n",
       "    <tr>\n",
       "      <th>19</th>\n",
       "      <td>1.012301e-21</td>\n",
       "      <td>http://go.ads2rtb.com/?r=/mb/han&amp;zoneid=473887...</td>\n",
       "      <td>0</td>\n",
       "    </tr>\n",
       "    <tr>\n",
       "      <th>20</th>\n",
       "      <td>0.000000e+00</td>\n",
       "      <td>http://adstrx.com/?a=7118&amp;c=66298&amp;s1=1401a9fe-...</td>\n",
       "      <td>0</td>\n",
       "    </tr>\n",
       "    <tr>\n",
       "      <th>21</th>\n",
       "      <td>2.099201e-05</td>\n",
       "      <td>http://pcdnetwork.org/</td>\n",
       "      <td>0</td>\n",
       "    </tr>\n",
       "    <tr>\n",
       "      <th>22</th>\n",
       "      <td>1.075840e-05</td>\n",
       "      <td>http://cabrable.com/</td>\n",
       "      <td>0</td>\n",
       "    </tr>\n",
       "    <tr>\n",
       "      <th>23</th>\n",
       "      <td>7.987081e-15</td>\n",
       "      <td>http://www.ntti3.com/test/ijjurfwyns/</td>\n",
       "      <td>0</td>\n",
       "    </tr>\n",
       "    <tr>\n",
       "      <th>24</th>\n",
       "      <td>7.667293e-09</td>\n",
       "      <td>http://idsync.rlcdn.com/420486.gif?partner_uid...</td>\n",
       "      <td>0</td>\n",
       "    </tr>\n",
       "    <tr>\n",
       "      <th>25</th>\n",
       "      <td>5.252930e-11</td>\n",
       "      <td>http://data-max.co.jp/</td>\n",
       "      <td>0</td>\n",
       "    </tr>\n",
       "    <tr>\n",
       "      <th>26</th>\n",
       "      <td>5.286393e-14</td>\n",
       "      <td>http://www.ntti3.com/test/gkxxhvuogi/</td>\n",
       "      <td>0</td>\n",
       "    </tr>\n",
       "    <tr>\n",
       "      <th>27</th>\n",
       "      <td>1.244663e-12</td>\n",
       "      <td>http://www.ntti3.com/test/geolmprugr/</td>\n",
       "      <td>0</td>\n",
       "    </tr>\n",
       "    <tr>\n",
       "      <th>28</th>\n",
       "      <td>2.779641e-05</td>\n",
       "      <td>http://mocar.me/</td>\n",
       "      <td>0</td>\n",
       "    </tr>\n",
       "    <tr>\n",
       "      <th>29</th>\n",
       "      <td>1.966303e-09</td>\n",
       "      <td>http://teen-pix.ru/</td>\n",
       "      <td>0</td>\n",
       "    </tr>\n",
       "    <tr>\n",
       "      <th>30</th>\n",
       "      <td>1.795326e-07</td>\n",
       "      <td>http://kasen-ep.com/</td>\n",
       "      <td>0</td>\n",
       "    </tr>\n",
       "    <tr>\n",
       "      <th>31</th>\n",
       "      <td>2.189027e-08</td>\n",
       "      <td>http://poezenrijk.nl/</td>\n",
       "      <td>0</td>\n",
       "    </tr>\n",
       "    <tr>\n",
       "      <th>32</th>\n",
       "      <td>5.592712e-14</td>\n",
       "      <td>http://www.ntti3.com/test/gxrgveppdb/</td>\n",
       "      <td>0</td>\n",
       "    </tr>\n",
       "    <tr>\n",
       "      <th>33</th>\n",
       "      <td>2.263402e-15</td>\n",
       "      <td>http://pull.db-gmresearch.com/p/690-706b/71178...</td>\n",
       "      <td>0</td>\n",
       "    </tr>\n",
       "    <tr>\n",
       "      <th>34</th>\n",
       "      <td>7.680717e-11</td>\n",
       "      <td>http://www1.cdn.sherdog.com/image_crop/72/72/_...</td>\n",
       "      <td>0</td>\n",
       "    </tr>\n",
       "    <tr>\n",
       "      <th>35</th>\n",
       "      <td>4.260282e-11</td>\n",
       "      <td>http://ap-com.co.jp/</td>\n",
       "      <td>0</td>\n",
       "    </tr>\n",
       "    <tr>\n",
       "      <th>36</th>\n",
       "      <td>1.442061e-36</td>\n",
       "      <td>http://cdn.icloud-content.com/p/1/asaddasimwcl...</td>\n",
       "      <td>0</td>\n",
       "    </tr>\n",
       "    <tr>\n",
       "      <th>37</th>\n",
       "      <td>5.846325e-05</td>\n",
       "      <td>http://drivebueno.com/</td>\n",
       "      <td>0</td>\n",
       "    </tr>\n",
       "    <tr>\n",
       "      <th>38</th>\n",
       "      <td>1.059652e-15</td>\n",
       "      <td>http://www.ntti3.com/test/eyksiyidtc/</td>\n",
       "      <td>0</td>\n",
       "    </tr>\n",
       "    <tr>\n",
       "      <th>39</th>\n",
       "      <td>2.831796e-37</td>\n",
       "      <td>http://log.adaptv.advertising.com/log?3a=progr...</td>\n",
       "      <td>0</td>\n",
       "    </tr>\n",
       "    <tr>\n",
       "      <th>40</th>\n",
       "      <td>1.296106e-06</td>\n",
       "      <td>http://amanme.com/</td>\n",
       "      <td>0</td>\n",
       "    </tr>\n",
       "    <tr>\n",
       "      <th>41</th>\n",
       "      <td>0.000000e+00</td>\n",
       "      <td>http://qa.eosadvantage.com/httpmodule/estimate...</td>\n",
       "      <td>0</td>\n",
       "    </tr>\n",
       "    <tr>\n",
       "      <th>42</th>\n",
       "      <td>3.888675e-05</td>\n",
       "      <td>http://bmcebank.ma/</td>\n",
       "      <td>0</td>\n",
       "    </tr>\n",
       "    <tr>\n",
       "      <th>43</th>\n",
       "      <td>2.152546e-06</td>\n",
       "      <td>http://automotivecomponents.lu/</td>\n",
       "      <td>0</td>\n",
       "    </tr>\n",
       "    <tr>\n",
       "      <th>44</th>\n",
       "      <td>2.375437e-05</td>\n",
       "      <td>http://alicili.org/</td>\n",
       "      <td>0</td>\n",
       "    </tr>\n",
       "    <tr>\n",
       "      <th>45</th>\n",
       "      <td>2.124549e-34</td>\n",
       "      <td>http://bttrack.com/engagement/event?input=%7b%...</td>\n",
       "      <td>0</td>\n",
       "    </tr>\n",
       "    <tr>\n",
       "      <th>46</th>\n",
       "      <td>1.863335e-05</td>\n",
       "      <td>http://32masseydr.com/</td>\n",
       "      <td>0</td>\n",
       "    </tr>\n",
       "    <tr>\n",
       "      <th>47</th>\n",
       "      <td>1.879376e-07</td>\n",
       "      <td>http://yoursantander.co.uk/</td>\n",
       "      <td>0</td>\n",
       "    </tr>\n",
       "    <tr>\n",
       "      <th>48</th>\n",
       "      <td>1.000000e+00</td>\n",
       "      <td>http://decolider.com/system/database/konto-ver...</td>\n",
       "      <td>1</td>\n",
       "    </tr>\n",
       "    <tr>\n",
       "      <th>49</th>\n",
       "      <td>8.976840e-01</td>\n",
       "      <td>http://spiritofarabia.com/skin/frontend/defaul...</td>\n",
       "      <td>1</td>\n",
       "    </tr>\n",
       "  </tbody>\n",
       "</table>\n",
       "</div>"
      ],
      "text/plain": [
       "            pred                                             string  truth\n",
       "0   1.574204e-05                      http://startbuyingstocks.com/      0\n",
       "1   1.840909e-05                                  http://qqcvk.com/      0\n",
       "2   1.842080e-05                          http://432parkavenue.com/      0\n",
       "3   7.954729e-07                             http://gamefoliant.ru/      0\n",
       "4   3.239338e-06                                    http://orka.cn/      0\n",
       "5   3.043137e-04                         http://media2.mercola.com/      0\n",
       "6   4.107331e-37  http://ping.chartbeat.net/ping?h=sltrib.com&p=...      0\n",
       "7   1.664497e-07                          http://stephensteels.com/      0\n",
       "8   1.400715e-05                                 http://kbd-eko.pl/      0\n",
       "9   2.273991e-05                              http://ceskaposta.cz/      0\n",
       "10  1.874393e-07                              http://accessmgt.com/      0\n",
       "11  3.447522e-06                                http://khumbah.com/      0\n",
       "12  1.621475e-13              http://www.ntti3.com/test/ibyhvpewne/      0\n",
       "13  3.036098e-06                    http://www.rolstoel-op-maat.nl/      0\n",
       "14  5.280865e-03                      http://signal2.fractime.info/      0\n",
       "15  3.703047e-06                               http://uhma-bike.pl/      0\n",
       "16  7.609874e-06                                   http://34c.info/      0\n",
       "17  2.662802e-06                      http://shipmatescollaroy.com/      0\n",
       "18  1.779410e-20        http://l.ooyala.com/verify?ts=1462457649773      0\n",
       "19  1.012301e-21  http://go.ads2rtb.com/?r=/mb/han&zoneid=473887...      0\n",
       "20  0.000000e+00  http://adstrx.com/?a=7118&c=66298&s1=1401a9fe-...      0\n",
       "21  2.099201e-05                             http://pcdnetwork.org/      0\n",
       "22  1.075840e-05                               http://cabrable.com/      0\n",
       "23  7.987081e-15              http://www.ntti3.com/test/ijjurfwyns/      0\n",
       "24  7.667293e-09  http://idsync.rlcdn.com/420486.gif?partner_uid...      0\n",
       "25  5.252930e-11                             http://data-max.co.jp/      0\n",
       "26  5.286393e-14              http://www.ntti3.com/test/gkxxhvuogi/      0\n",
       "27  1.244663e-12              http://www.ntti3.com/test/geolmprugr/      0\n",
       "28  2.779641e-05                                   http://mocar.me/      0\n",
       "29  1.966303e-09                                http://teen-pix.ru/      0\n",
       "30  1.795326e-07                               http://kasen-ep.com/      0\n",
       "31  2.189027e-08                              http://poezenrijk.nl/      0\n",
       "32  5.592712e-14              http://www.ntti3.com/test/gxrgveppdb/      0\n",
       "33  2.263402e-15  http://pull.db-gmresearch.com/p/690-706b/71178...      0\n",
       "34  7.680717e-11  http://www1.cdn.sherdog.com/image_crop/72/72/_...      0\n",
       "35  4.260282e-11                               http://ap-com.co.jp/      0\n",
       "36  1.442061e-36  http://cdn.icloud-content.com/p/1/asaddasimwcl...      0\n",
       "37  5.846325e-05                             http://drivebueno.com/      0\n",
       "38  1.059652e-15              http://www.ntti3.com/test/eyksiyidtc/      0\n",
       "39  2.831796e-37  http://log.adaptv.advertising.com/log?3a=progr...      0\n",
       "40  1.296106e-06                                 http://amanme.com/      0\n",
       "41  0.000000e+00  http://qa.eosadvantage.com/httpmodule/estimate...      0\n",
       "42  3.888675e-05                                http://bmcebank.ma/      0\n",
       "43  2.152546e-06                    http://automotivecomponents.lu/      0\n",
       "44  2.375437e-05                                http://alicili.org/      0\n",
       "45  2.124549e-34  http://bttrack.com/engagement/event?input=%7b%...      0\n",
       "46  1.863335e-05                             http://32masseydr.com/      0\n",
       "47  1.879376e-07                        http://yoursantander.co.uk/      0\n",
       "48  1.000000e+00  http://decolider.com/system/database/konto-ver...      1\n",
       "49  8.976840e-01  http://spiritofarabia.com/skin/frontend/defaul...      1"
      ]
     },
     "execution_count": 53,
     "metadata": {},
     "output_type": "execute_result"
    }
   ],
   "source": [
    "urls.head(50)"
   ]
  },
  {
   "cell_type": "code",
   "execution_count": 58,
   "metadata": {},
   "outputs": [
    {
     "data": {
      "text/html": [
       "<div>\n",
       "<style>\n",
       "    .dataframe thead tr:only-child th {\n",
       "        text-align: right;\n",
       "    }\n",
       "\n",
       "    .dataframe thead th {\n",
       "        text-align: left;\n",
       "    }\n",
       "\n",
       "    .dataframe tbody tr th {\n",
       "        vertical-align: top;\n",
       "    }\n",
       "</style>\n",
       "<table border=\"1\" class=\"dataframe\">\n",
       "  <thead>\n",
       "    <tr style=\"text-align: right;\">\n",
       "      <th></th>\n",
       "      <th>pred</th>\n",
       "      <th>string</th>\n",
       "      <th>truth</th>\n",
       "    </tr>\n",
       "  </thead>\n",
       "  <tbody>\n",
       "    <tr>\n",
       "      <th>48</th>\n",
       "      <td>1.000000</td>\n",
       "      <td>http://decolider.com/system/database/konto-ver...</td>\n",
       "      <td>1</td>\n",
       "    </tr>\n",
       "    <tr>\n",
       "      <th>49</th>\n",
       "      <td>0.897684</td>\n",
       "      <td>http://spiritofarabia.com/skin/frontend/defaul...</td>\n",
       "      <td>1</td>\n",
       "    </tr>\n",
       "    <tr>\n",
       "      <th>64</th>\n",
       "      <td>0.060241</td>\n",
       "      <td>http://sinanoori.com/downloader/c</td>\n",
       "      <td>1</td>\n",
       "    </tr>\n",
       "    <tr>\n",
       "      <th>86</th>\n",
       "      <td>0.333332</td>\n",
       "      <td>http://castletownglass.com/ed/ed</td>\n",
       "      <td>1</td>\n",
       "    </tr>\n",
       "    <tr>\n",
       "      <th>137</th>\n",
       "      <td>0.632627</td>\n",
       "      <td>http://eternityscarves.com/harchaedition/</td>\n",
       "      <td>1</td>\n",
       "    </tr>\n",
       "  </tbody>\n",
       "</table>\n",
       "</div>"
      ],
      "text/plain": [
       "         pred                                             string  truth\n",
       "48   1.000000  http://decolider.com/system/database/konto-ver...      1\n",
       "49   0.897684  http://spiritofarabia.com/skin/frontend/defaul...      1\n",
       "64   0.060241                  http://sinanoori.com/downloader/c      1\n",
       "86   0.333332                   http://castletownglass.com/ed/ed      1\n",
       "137  0.632627          http://eternityscarves.com/harchaedition/      1"
      ]
     },
     "execution_count": 58,
     "metadata": {},
     "output_type": "execute_result"
    }
   ],
   "source": [
    "urls[urls['truth']==1].head()"
   ]
  },
  {
   "cell_type": "code",
   "execution_count": 4,
   "metadata": {
    "collapsed": true
   },
   "outputs": [],
   "source": [
    "X, y = urls['string'], urls['truth']"
   ]
  },
  {
   "cell_type": "code",
   "execution_count": 5,
   "metadata": {},
   "outputs": [
    {
     "data": {
      "text/plain": [
       "0    http://startbuyingstocks.com/\n",
       "1                http://qqcvk.com/\n",
       "2        http://432parkavenue.com/\n",
       "3           http://gamefoliant.ru/\n",
       "4                  http://orka.cn/\n",
       "Name: string, dtype: object"
      ]
     },
     "execution_count": 5,
     "metadata": {},
     "output_type": "execute_result"
    }
   ],
   "source": [
    "X.head()  # look at X"
   ]
  },
  {
   "cell_type": "code",
   "execution_count": 6,
   "metadata": {},
   "outputs": [
    {
     "data": {
      "text/plain": [
       "0    0\n",
       "1    0\n",
       "2    0\n",
       "3    0\n",
       "4    0\n",
       "Name: truth, dtype: int64"
      ]
     },
     "execution_count": 6,
     "metadata": {},
     "output_type": "execute_result"
    }
   ],
   "source": [
    "y.head()"
   ]
  },
  {
   "cell_type": "code",
   "execution_count": 7,
   "metadata": {},
   "outputs": [
    {
     "data": {
      "text/plain": [
       "0    0.9694\n",
       "1    0.0306\n",
       "Name: truth, dtype: float64"
      ]
     },
     "execution_count": 7,
     "metadata": {},
     "output_type": "execute_result"
    }
   ],
   "source": [
    "y.value_counts(normalize=True)  # get our null accuracy because we are interested in prediction"
   ]
  },
  {
   "cell_type": "code",
   "execution_count": 8,
   "metadata": {
    "collapsed": true
   },
   "outputs": [],
   "source": [
    "from sklearn.feature_extraction.text import CountVectorizer"
   ]
  },
  {
   "cell_type": "code",
   "execution_count": 19,
   "metadata": {},
   "outputs": [
    {
     "name": "stdout",
     "output_type": "stream",
     "text": [
      "['https', '', '', 'google', 'com']\n",
      "['https', '', '', 'google', 'so', 'not', 'fake', 'com', 'fake=False', 'seriously=True']\n"
     ]
    }
   ],
   "source": [
    "# EXERCISE\n",
    "\n",
    "# Create a fucntion called custom_tokenizer that takes in a string and outputs a list of tokens of the string.\n",
    "# You may choose how few or how many tokens you can choose to return.\n",
    "\n",
    "# eg.\n",
    "from urlparse import urlparse\n",
    "import re\n",
    "def custom_tokenizer(str):\n",
    "    final = []\n",
    "    final.extend(re.compile(\"[(\\:\\/\\/).\\-?&]\").split(str))\n",
    "    return final\n",
    "\n",
    "print custom_tokenizer('https://google.com')\n",
    "\n",
    "print custom_tokenizer('https://google-so-not-fake.com?fake=False&seriously=True')\n",
    "\n"
   ]
  },
  {
   "cell_type": "code",
   "execution_count": null,
   "metadata": {
    "collapsed": true
   },
   "outputs": [],
   "source": []
  },
  {
   "cell_type": "code",
   "execution_count": null,
   "metadata": {
    "collapsed": true
   },
   "outputs": [],
   "source": []
  },
  {
   "cell_type": "code",
   "execution_count": null,
   "metadata": {
    "collapsed": true
   },
   "outputs": [],
   "source": []
  },
  {
   "cell_type": "code",
   "execution_count": null,
   "metadata": {
    "collapsed": true
   },
   "outputs": [],
   "source": []
  },
  {
   "cell_type": "code",
   "execution_count": null,
   "metadata": {
    "collapsed": true
   },
   "outputs": [],
   "source": []
  },
  {
   "cell_type": "code",
   "execution_count": null,
   "metadata": {
    "collapsed": true
   },
   "outputs": [],
   "source": []
  },
  {
   "cell_type": "code",
   "execution_count": null,
   "metadata": {
    "collapsed": true
   },
   "outputs": [],
   "source": []
  },
  {
   "cell_type": "code",
   "execution_count": 20,
   "metadata": {
    "collapsed": true
   },
   "outputs": [],
   "source": [
    "import re\n",
    "\n",
    "def custom_tokenizer(string):\n",
    "    final = []\n",
    "    tokens = [a for a in list(urlparse(string)) if a]\n",
    "    for t in tokens:\n",
    "        final.extend(re.compile(\"[.-]\").split(t))\n",
    "    return final"
   ]
  },
  {
   "cell_type": "code",
   "execution_count": 21,
   "metadata": {},
   "outputs": [
    {
     "data": {
      "text/plain": [
       "['google', 'com']"
      ]
     },
     "execution_count": 21,
     "metadata": {},
     "output_type": "execute_result"
    }
   ],
   "source": [
    "custom_tokenizer('google.com')"
   ]
  },
  {
   "cell_type": "code",
   "execution_count": 22,
   "metadata": {},
   "outputs": [
    {
     "data": {
      "text/plain": [
       "['https', 'google', 'com']"
      ]
     },
     "execution_count": 22,
     "metadata": {},
     "output_type": "execute_result"
    }
   ],
   "source": [
    "custom_tokenizer('https://google.com')"
   ]
  },
  {
   "cell_type": "code",
   "execution_count": 23,
   "metadata": {},
   "outputs": [
    {
     "data": {
      "text/plain": [
       "['https', 'google', 'so', 'not', 'fake', 'com', 'fake=False&seriously=True']"
      ]
     },
     "execution_count": 23,
     "metadata": {},
     "output_type": "execute_result"
    }
   ],
   "source": [
    "custom_tokenizer('https://google-so-not-fake.com?fake=False&seriously=True')"
   ]
  },
  {
   "cell_type": "code",
   "execution_count": 24,
   "metadata": {
    "collapsed": true
   },
   "outputs": [],
   "source": [
    "vect = CountVectorizer(tokenizer=custom_tokenizer)"
   ]
  },
  {
   "cell_type": "code",
   "execution_count": 25,
   "metadata": {},
   "outputs": [
    {
     "data": {
      "text/plain": [
       "<5000x11502 sparse matrix of type '<type 'numpy.int64'>'\n",
       "\twith 31293 stored elements in Compressed Sparse Row format>"
      ]
     },
     "execution_count": 25,
     "metadata": {},
     "output_type": "execute_result"
    }
   ],
   "source": [
    "vect.fit_transform(X)"
   ]
  },
  {
   "cell_type": "code",
   "execution_count": 26,
   "metadata": {
    "collapsed": true
   },
   "outputs": [],
   "source": [
    "from sklearn.pipeline import Pipeline\n",
    "from sklearn.linear_model import LogisticRegression\n",
    "\n",
    "lr = LogisticRegression()\n",
    "lr_pipe = Pipeline([('vect', vect), ('model', lr)])"
   ]
  },
  {
   "cell_type": "code",
   "execution_count": null,
   "metadata": {
    "collapsed": true
   },
   "outputs": [],
   "source": []
  },
  {
   "cell_type": "code",
   "execution_count": 27,
   "metadata": {
    "collapsed": true
   },
   "outputs": [],
   "source": [
    "from sklearn.model_selection import cross_val_score, GridSearchCV, train_test_split"
   ]
  },
  {
   "cell_type": "code",
   "execution_count": 28,
   "metadata": {},
   "outputs": [
    {
     "data": {
      "text/plain": [
       "0.98000238400238404"
      ]
     },
     "execution_count": 28,
     "metadata": {},
     "output_type": "execute_result"
    }
   ],
   "source": [
    "scores = cross_val_score(lr_pipe, X, y, cv=5)\n",
    "\n",
    "scores.mean()  # not good enough!!"
   ]
  },
  {
   "cell_type": "code",
   "execution_count": 29,
   "metadata": {},
   "outputs": [
    {
     "data": {
      "text/plain": [
       "0.98080278480278482"
      ]
     },
     "execution_count": 29,
     "metadata": {},
     "output_type": "execute_result"
    }
   ],
   "source": [
    "from sklearn.pipeline import Pipeline\n",
    "from sklearn.ensemble import RandomForestClassifier\n",
    "\n",
    "rf_pipe = Pipeline([('vect', vect), ('model', RandomForestClassifier(n_estimators=500))])\n",
    "scores = cross_val_score(rf_pipe, X, y, cv=5)\n",
    "\n",
    "scores.mean()  # not as good"
   ]
  },
  {
   "cell_type": "code",
   "execution_count": null,
   "metadata": {
    "collapsed": true
   },
   "outputs": [],
   "source": []
  },
  {
   "cell_type": "code",
   "execution_count": null,
   "metadata": {
    "collapsed": true
   },
   "outputs": [],
   "source": []
  },
  {
   "cell_type": "code",
   "execution_count": 47,
   "metadata": {},
   "outputs": [
    {
     "name": "stdout",
     "output_type": "stream",
     "text": [
      "[[1207    0]\n",
      " [  29   14]]\n"
     ]
    }
   ],
   "source": [
    "X_train, X_test, y_train, y_test = train_test_split(X, y)\n",
    "\n",
    "from sklearn.metrics import confusion_matrix\n",
    "\n",
    "rf_pipe.fit(X_train, y_train)\n",
    "\n",
    "preds = rf_pipe.predict(X_test)\n",
    "print confusion_matrix(y_test, preds)  # hmmmm"
   ]
  },
  {
   "cell_type": "code",
   "execution_count": 48,
   "metadata": {
    "collapsed": true
   },
   "outputs": [],
   "source": [
    "probs = rf_pipe.predict_proba(X_test)[:,1]"
   ]
  },
  {
   "cell_type": "code",
   "execution_count": 49,
   "metadata": {},
   "outputs": [
    {
     "name": "stdout",
     "output_type": "stream",
     "text": [
      "0.1\n",
      "[[1202    5]\n",
      " [  21   22]]\n",
      "\n",
      "0.2\n",
      "[[1206    1]\n",
      " [  24   19]]\n",
      "\n",
      "0.3\n",
      "[[1207    0]\n",
      " [  26   17]]\n",
      "\n",
      "0.4\n",
      "[[1207    0]\n",
      " [  28   15]]\n",
      "\n",
      "0.5\n",
      "[[1207    0]\n",
      " [  29   14]]\n",
      "\n",
      "0.6\n",
      "[[1207    0]\n",
      " [  30   13]]\n",
      "\n",
      "0.7\n",
      "[[1207    0]\n",
      " [  30   13]]\n",
      "\n",
      "0.8\n",
      "[[1207    0]\n",
      " [  31   12]]\n",
      "\n",
      "0.9\n",
      "[[1207    0]\n",
      " [  31   12]]\n",
      "\n"
     ]
    }
   ],
   "source": [
    "import numpy as np\n",
    "for thresh in [.1, .2, .3, .4, .5, .6, .7, .8, .9]:\n",
    "    preds = np.where(probs >= thresh, 1, 0)\n",
    "    print thresh\n",
    "    print confusion_matrix(y_test, preds)\n",
    "    print"
   ]
  },
  {
   "cell_type": "code",
   "execution_count": 50,
   "metadata": {},
   "outputs": [
    {
     "name": "stderr",
     "output_type": "stream",
     "text": [
      "Using TensorFlow backend.\n"
     ]
    }
   ],
   "source": [
    "from keras.utils.np_utils import to_categorical\n",
    "y_train_dummy = to_categorical(y_train)\n",
    "num_classes = y_train_dummy.shape[1]\n",
    "y_test_dummy = to_categorical(y_test)"
   ]
  },
  {
   "cell_type": "code",
   "execution_count": 51,
   "metadata": {
    "collapsed": true
   },
   "outputs": [],
   "source": [
    "from keras.models import Model\n",
    "from keras.layers import Dense, Dropout, Activation\n",
    "from keras.models import Sequential\n",
    "from keras.models import Model\n",
    "from keras.optimizers import SGD\n",
    "\n",
    "def mlp_model(input_layer, num_classes, optimizer=\"adam\", epochs=25):\n",
    "    model = Sequential()\n",
    "    model.add(Dense(1024, input_dim=input_layer))\n",
    "    model.add(Activation('relu'))\n",
    "    model.add(Dropout(0.25))\n",
    "    \n",
    "    model.add(Dense(1024, input_dim=input_layer))\n",
    "    model.add(Activation('relu'))\n",
    "    model.add(Dropout(0.25))\n",
    "    \n",
    "    model.add(Dense(1024))\n",
    "    model.add(Activation('relu'))\n",
    "    model.add(Dropout(0.25))\n",
    "    \n",
    "    model.add(Dense(num_classes, activation='softmax'))\n",
    "\n",
    "    epochs = epochs\n",
    "    lrate = 0.01\n",
    "    decay = lrate/epochs\n",
    "    sgd = SGD(lr=lrate, momentum=0.9, decay=decay, nesterov=False)\n",
    "\n",
    "\n",
    "    model.compile(loss='categorical_crossentropy', optimizer=sgd, metrics=['accuracy'])\n",
    "    return model"
   ]
  },
  {
   "cell_type": "code",
   "execution_count": 52,
   "metadata": {},
   "outputs": [
    {
     "name": "stdout",
     "output_type": "stream",
     "text": [
      "_________________________________________________________________\n",
      "Layer (type)                 Output Shape              Param #   \n",
      "=================================================================\n",
      "dense_1 (Dense)              (None, 1024)              9187328   \n",
      "_________________________________________________________________\n",
      "activation_1 (Activation)    (None, 1024)              0         \n",
      "_________________________________________________________________\n",
      "dropout_1 (Dropout)          (None, 1024)              0         \n",
      "_________________________________________________________________\n",
      "dense_2 (Dense)              (None, 1024)              1049600   \n",
      "_________________________________________________________________\n",
      "activation_2 (Activation)    (None, 1024)              0         \n",
      "_________________________________________________________________\n",
      "dropout_2 (Dropout)          (None, 1024)              0         \n",
      "_________________________________________________________________\n",
      "dense_3 (Dense)              (None, 1024)              1049600   \n",
      "_________________________________________________________________\n",
      "activation_3 (Activation)    (None, 1024)              0         \n",
      "_________________________________________________________________\n",
      "dropout_3 (Dropout)          (None, 1024)              0         \n",
      "_________________________________________________________________\n",
      "dense_4 (Dense)              (None, 2)                 2050      \n",
      "=================================================================\n",
      "Total params: 11,288,578\n",
      "Trainable params: 11,288,578\n",
      "Non-trainable params: 0\n",
      "_________________________________________________________________\n",
      "None\n"
     ]
    },
    {
     "name": "stderr",
     "output_type": "stream",
     "text": [
      "/Users/ronliu/anaconda/lib/python2.7/site-packages/keras/models.py:844: UserWarning: The `nb_epoch` argument in `fit` has been renamed `epochs`.\n",
      "  warnings.warn('The `nb_epoch` argument in `fit` '\n"
     ]
    },
    {
     "name": "stdout",
     "output_type": "stream",
     "text": [
      "Train on 3750 samples, validate on 1250 samples\n",
      "Epoch 1/25\n",
      "3750/3750 [==============================] - 19s - loss: 0.1785 - acc: 0.9605 - val_loss: 0.1337 - val_acc: 0.9656\n",
      "Epoch 2/25\n",
      "3750/3750 [==============================] - 19s - loss: 0.1143 - acc: 0.9707 - val_loss: 0.1177 - val_acc: 0.9656\n",
      "Epoch 3/25\n",
      "3750/3750 [==============================] - 19s - loss: 0.1019 - acc: 0.9707 - val_loss: 0.1033 - val_acc: 0.9656\n",
      "Epoch 4/25\n",
      "3750/3750 [==============================] - 19s - loss: 0.0901 - acc: 0.9707 - val_loss: 0.0919 - val_acc: 0.9656\n",
      "Epoch 5/25\n",
      "3750/3750 [==============================] - 19s - loss: 0.0803 - acc: 0.9707 - val_loss: 0.0823 - val_acc: 0.9656\n",
      "Epoch 6/25\n",
      "3750/3750 [==============================] - 19s - loss: 0.0681 - acc: 0.9717 - val_loss: 0.0732 - val_acc: 0.9752\n",
      "Epoch 7/25\n",
      "3750/3750 [==============================] - 19s - loss: 0.0591 - acc: 0.9781 - val_loss: 0.0701 - val_acc: 0.9768\n",
      "Epoch 8/25\n",
      "3750/3750 [==============================] - 19s - loss: 0.0485 - acc: 0.9800 - val_loss: 0.0625 - val_acc: 0.9776\n",
      "Epoch 9/25\n",
      "3750/3750 [==============================] - 18s - loss: 0.0381 - acc: 0.9859 - val_loss: 0.0562 - val_acc: 0.9824\n",
      "Epoch 10/25\n",
      "3750/3750 [==============================] - 18s - loss: 0.0282 - acc: 0.9909 - val_loss: 0.0534 - val_acc: 0.9824\n",
      "Epoch 11/25\n",
      "3750/3750 [==============================] - 18s - loss: 0.0228 - acc: 0.9947 - val_loss: 0.0525 - val_acc: 0.9824\n",
      "Epoch 12/25\n",
      "3750/3750 [==============================] - 18s - loss: 0.0178 - acc: 0.9963 - val_loss: 0.0554 - val_acc: 0.9824\n",
      "Epoch 13/25\n",
      "3750/3750 [==============================] - 18s - loss: 0.0135 - acc: 0.9971 - val_loss: 0.0526 - val_acc: 0.9824\n",
      "Epoch 14/25\n",
      "3750/3750 [==============================] - 18s - loss: 0.0094 - acc: 0.9984 - val_loss: 0.0513 - val_acc: 0.9832\n",
      "Epoch 15/25\n",
      "3750/3750 [==============================] - 19s - loss: 0.0071 - acc: 0.9989 - val_loss: 0.0510 - val_acc: 0.9872\n",
      "Epoch 16/25\n",
      "3750/3750 [==============================] - 18s - loss: 0.0055 - acc: 0.9995 - val_loss: 0.0632 - val_acc: 0.9816\n",
      "Epoch 17/25\n",
      "3750/3750 [==============================] - 18s - loss: 0.0058 - acc: 0.9992 - val_loss: 0.0542 - val_acc: 0.9824\n",
      "Epoch 18/25\n",
      "3750/3750 [==============================] - 18s - loss: 0.0036 - acc: 0.9997 - val_loss: 0.0521 - val_acc: 0.9872\n",
      "Epoch 19/25\n",
      "3750/3750 [==============================] - 18s - loss: 0.0032 - acc: 1.0000 - val_loss: 0.0581 - val_acc: 0.9824\n",
      "Epoch 20/25\n",
      "3750/3750 [==============================] - 18s - loss: 0.0026 - acc: 1.0000 - val_loss: 0.0599 - val_acc: 0.9824\n",
      "Epoch 21/25\n",
      "3750/3750 [==============================] - 18s - loss: 0.0024 - acc: 1.0000 - val_loss: 0.0640 - val_acc: 0.9824\n",
      "Epoch 22/25\n",
      "3750/3750 [==============================] - 18s - loss: 0.0020 - acc: 1.0000 - val_loss: 0.0593 - val_acc: 0.9832\n",
      "Epoch 23/25\n",
      "3750/3750 [==============================] - 19s - loss: 0.0019 - acc: 1.0000 - val_loss: 0.0620 - val_acc: 0.9824\n",
      "Epoch 24/25\n",
      "3750/3750 [==============================] - 18s - loss: 0.0018 - acc: 1.0000 - val_loss: 0.0579 - val_acc: 0.9832\n",
      "Epoch 25/25\n",
      "3750/3750 [==============================] - 19s - loss: 0.0015 - acc: 1.0000 - val_loss: 0.0617 - val_acc: 0.9824\n"
     ]
    },
    {
     "data": {
      "text/plain": [
       "<keras.callbacks.History at 0x134e5fbd0>"
      ]
     },
     "execution_count": 52,
     "metadata": {},
     "output_type": "execute_result"
    }
   ],
   "source": [
    "num_epochs = 25\n",
    "\n",
    "vect = CountVectorizer(tokenizer=custom_tokenizer)\n",
    "\n",
    "X_train_dtm = vect.fit_transform(X_train).toarray()\n",
    "X_test_dtm = vect.transform(X_test).toarray()\n",
    "model = mlp_model(len(vect.get_feature_names()), num_classes, epochs=num_epochs)\n",
    "\n",
    "print model.summary()\n",
    "\n",
    "# Fit the model\n",
    "model.fit(X_train_dtm, y_train_dummy, validation_data=(X_test_dtm, y_test_dummy), batch_size=32, nb_epoch=num_epochs)\n",
    "# Final evaluation of the model"
   ]
  },
  {
   "cell_type": "code",
   "execution_count": 189,
   "metadata": {},
   "outputs": [
    {
     "name": "stdout",
     "output_type": "stream",
     "text": [
      "Accuracy: 98.40%\n"
     ]
    }
   ],
   "source": [
    "scores = model.evaluate(X_test_dtm, y_test_dummy, verbose=0)\n",
    "print(\"Accuracy: %.2f%%\" % (scores[1]*100))"
   ]
  },
  {
   "cell_type": "code",
   "execution_count": 190,
   "metadata": {},
   "outputs": [
    {
     "data": {
      "text/plain": [
       "array([[  9.99973536e-01,   2.64957744e-05],\n",
       "       [  3.43389392e-01,   6.56610668e-01]], dtype=float32)"
      ]
     },
     "execution_count": 190,
     "metadata": {},
     "output_type": "execute_result"
    }
   ],
   "source": [
    "model.predict(vect.transform(['http://creditscore.com/', 'http://acharefacil.com.br/app/webroot/js/latestfnb/']).toarray())"
   ]
  },
  {
   "cell_type": "code",
   "execution_count": 191,
   "metadata": {},
   "outputs": [
    {
     "name": "stdout",
     "output_type": "stream",
     "text": [
      "[[1213    1]\n",
      " [  19   17]]\n"
     ]
    }
   ],
   "source": [
    "probs = model.predict(vect.transform(X_test).toarray())[:,1]\n",
    "preds = probs >= .5\n",
    "print confusion_matrix(y_test, preds)"
   ]
  },
  {
   "cell_type": "code",
   "execution_count": 192,
   "metadata": {},
   "outputs": [
    {
     "name": "stdout",
     "output_type": "stream",
     "text": [
      "[[1213    1]\n",
      " [  24   12]]\n"
     ]
    }
   ],
   "source": [
    "probs = rf_pipe.predict_proba(X_test)[:,1]\n",
    "preds = probs >= .5\n",
    "print confusion_matrix(y_test, preds)"
   ]
  },
  {
   "cell_type": "code",
   "execution_count": 193,
   "metadata": {
    "collapsed": true
   },
   "outputs": [],
   "source": [
    "from sklearn.neural_network import MLPClassifier\n",
    "from sklearn.neighbors import KNeighborsClassifier"
   ]
  },
  {
   "cell_type": "code",
   "execution_count": null,
   "metadata": {
    "collapsed": true
   },
   "outputs": [],
   "source": []
  },
  {
   "cell_type": "code",
   "execution_count": 194,
   "metadata": {},
   "outputs": [
    {
     "data": {
      "text/plain": [
       "0.98420158720158724"
      ]
     },
     "execution_count": 194,
     "metadata": {},
     "output_type": "execute_result"
    }
   ],
   "source": [
    "nn_pipe = Pipeline([('vect', vect), ('model', MLPClassifier())])\n",
    "scores = cross_val_score(nn_pipe, X, y, cv=5)\n",
    "\n",
    "scores.mean()  # better I guess.."
   ]
  },
  {
   "cell_type": "code",
   "execution_count": 195,
   "metadata": {},
   "outputs": [
    {
     "name": "stdout",
     "output_type": "stream",
     "text": [
      "[[1213    1]\n",
      " [  20   16]]\n"
     ]
    }
   ],
   "source": [
    "nn_pipe.fit(X_train, y_train)\n",
    "probs = nn_pipe.predict_proba(X_test)[:,1]\n",
    "preds = probs >= .5\n",
    "print confusion_matrix(y_test, preds)"
   ]
  },
  {
   "cell_type": "code",
   "execution_count": 196,
   "metadata": {
    "collapsed": true
   },
   "outputs": [],
   "source": [
    "false_negatives = X_test[(preds==0) & (y_test==1)]  # show the false positives, the urls that \"got through\""
   ]
  },
  {
   "cell_type": "code",
   "execution_count": 202,
   "metadata": {},
   "outputs": [
    {
     "data": {
      "text/plain": [
       "[u'http://instalacionesmarmenor.com/instt/',\n",
       " u'http://datatech-ma.com/imagens/autorizados/wwww_dotz.com/acumulo_de_pontos/area_do_cliente/public_html/',\n",
       " u'http://220.243.235.13/6843319.s21d-6.faiusrd.com/0/abuiabblgaag9qgfrwuoxeygnqe?f=a&%5cu0005&wsiphost=local',\n",
       " u'http://get.ddlmedia1012.info/downloadmanager/get?clickid=y810ifrcxc',\n",
       " u'http://shatteredrealities.net/support/activate/information/11d37cf69e7e159ddfc549a51ca901c8/login.php',\n",
       " u'http://scholigoneon.org.cy/dropboxdocument/b642ffe1dd813bc5d6590a66ad16927c/',\n",
       " u'http://acharefacil.com.br/app/webroot/js/latestfnb/',\n",
       " u'http://usherandson.com/news/wp-content/plugins/jetpack/views/hotmail2/security.html',\n",
       " u'http://paypal1.com.case.507-917-425.jjfqmrbi5n76yw.pwx4qurtj2t.com.ve/cgi-bin/webscr/',\n",
       " u'http://malkarafestival.com/images/bottom.gif/?184ff=398332',\n",
       " u'http://purvanchalseva.in/wp-content/upgrade/images/applen/apple-en/en/978913f1b016db9fe72a4dcf841a98f4/',\n",
       " u'http://www.marcinderegowski.pl/content/galeria/11/0/min/d72286b21e4b6e46f48dc1d442725eba/',\n",
       " u'http://greateraltoonajewishfederation.org/irs/5/cgi-bin/irs.gov.htm',\n",
       " u'http://finsecxh.com/log/identity.php',\n",
       " u'http://anykumeni.info/',\n",
       " u'http://wfcforums.com/home/wp-mark.php',\n",
       " u'http://sicu22jbyeh7eh2.hastasarim.com/',\n",
       " u'http://investmentsuisse2016.org/newdropbox2016/',\n",
       " u'http://wearejose.org/london/',\n",
       " u'http://markdekkers.com.au/paste/updatey!.html/']"
      ]
     },
     "execution_count": 202,
     "metadata": {},
     "output_type": "execute_result"
    }
   ],
   "source": [
    "list(false_negatives)"
   ]
  },
  {
   "cell_type": "code",
   "execution_count": null,
   "metadata": {
    "collapsed": true
   },
   "outputs": [],
   "source": []
  },
  {
   "cell_type": "code",
   "execution_count": null,
   "metadata": {
    "collapsed": true
   },
   "outputs": [],
   "source": []
  },
  {
   "cell_type": "code",
   "execution_count": null,
   "metadata": {
    "collapsed": true
   },
   "outputs": [],
   "source": []
  }
 ],
 "metadata": {
  "kernelspec": {
   "display_name": "Python 2",
   "language": "python",
   "name": "python2"
  },
  "language_info": {
   "codemirror_mode": {
    "name": "ipython",
    "version": 2
   },
   "file_extension": ".py",
   "mimetype": "text/x-python",
   "name": "python",
   "nbconvert_exporter": "python",
   "pygments_lexer": "ipython2",
   "version": "2.7.13"
  }
 },
 "nbformat": 4,
 "nbformat_minor": 2
}
